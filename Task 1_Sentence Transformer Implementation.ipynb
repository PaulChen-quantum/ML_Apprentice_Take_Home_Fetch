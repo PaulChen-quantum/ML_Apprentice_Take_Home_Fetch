{
  "nbformat": 4,
  "nbformat_minor": 0,
  "metadata": {
    "colab": {
      "provenance": []
    },
    "kernelspec": {
      "name": "python3",
      "display_name": "Python 3"
    },
    "language_info": {
      "name": "python"
    }
  },
  "cells": [
    {
      "cell_type": "code",
      "execution_count": null,
      "metadata": {
        "id": "WtWuwjUd5Ya6"
      },
      "outputs": [],
      "source": [
        "# Task 1: Sentence Transformer Implementation\n",
        "\n",
        "'''\n",
        "   Using the sentence-transformers library with the paraphrase-MiniLM-L6-v2 model,\n",
        "   the implementation becomes much simpler — because this library already wraps tokenization, model loading, and pooling logic for users.\n",
        "'''\n",
        "\n",
        "from sentence_transformers import SentenceTransformer\n",
        "import torch\n",
        "\n",
        "class MiniLMSentenceEmbedder:\n",
        "    def __init__(self, model_name='paraphrase-MiniLM-L6-v2'):\n",
        "        self.model = SentenceTransformer(model_name)\n",
        "\n",
        "    def encode(self, sentences):\n",
        "        # Returns a tensor of embeddings\n",
        "        embeddings = self.model.encode(sentences, convert_to_tensor=True)\n",
        "        return embeddings\n",
        "\n",
        "if __name__ == \"__main__\":\n",
        "    embedder = MiniLMSentenceEmbedder()\n",
        "    sentences = [\n",
        "        \"The quick brown fox jumps over the lazy dog.\",\n",
        "        \"Machine learning is fascinating.\",\n",
        "        \"I love natural language processing!\"\n",
        "    ]\n",
        "\n",
        "    embeddings = embedder.encode(sentences)\n",
        "\n",
        "    for sentence, embedding in zip(sentences, embeddings):\n",
        "        print(f\"Sentence: {sentence}\")\n",
        "        print(f\"Embedding shape: {embedding.shape}\")\n",
        "        print(f\"Embedding (first 5 values): {embedding[:5]}\\n\")"
      ]
    }
  ]
}