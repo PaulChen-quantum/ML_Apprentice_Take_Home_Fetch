{
  "nbformat": 4,
  "nbformat_minor": 0,
  "metadata": {
    "colab": {
      "provenance": []
    },
    "kernelspec": {
      "name": "python3",
      "display_name": "Python 3"
    },
    "language_info": {
      "name": "python"
    }
  },
  "cells": [
    {
      "cell_type": "code",
      "execution_count": null,
      "metadata": {
        "id": "LOdMAKN9a-a7"
      },
      "outputs": [],
      "source": [
        "# Task 2: Multi-Task Learning Expansion\n",
        "\n",
        "'''\n",
        "Goals:\n",
        "\n",
        "Task A: Sentence Classification (e.g., classify sentence into News, Sports, Finance, etc.)\n",
        "\n",
        "Task B: Another NLP task — we'll choose Sentiment Analysis (Positive, Negative, Neutral).\n",
        "\n",
        "Design:\n",
        "\n",
        "Use SentenceTransformer('paraphrase-MiniLM-L6-v2') for encoding input sentences.\n",
        "\n",
        "Add two separate classification heads:\n",
        "\n",
        "task_a_head: MLP for topic classification.\n",
        "\n",
        "task_b_head: MLP for sentiment analysis.\n",
        "\n",
        "Both heads take the same sentence embedding as input (from the frozen or fine-tuned backbone).\n",
        "This architecture is flexible: Easy to extend to more tasks by adding new heads.\n",
        "'''\n",
        "\n",
        "\n",
        "\n",
        "\n",
        "from sentence_transformers import SentenceTransformer\n",
        "import torch\n",
        "from torch import nn\n",
        "\n",
        "class MultiTaskSentenceTransformer(nn.Module):\n",
        "    def __init__(self, model_name='paraphrase-MiniLM-L6-v2',\n",
        "                 task_a_num_classes=3,  # e.g., ['News', 'Sports', 'Finance']\n",
        "                 task_b_num_classes=3): # e.g., ['Positive', 'Negative', 'Neutral']\n",
        "        super(MultiTaskSentenceTransformer, self).__init__()\n",
        "\n",
        "        # Shared sentence encoder\n",
        "        self.encoder = SentenceTransformer(model_name)\n",
        "        self.embedding_dim = self.encoder.get_sentence_embedding_dimension()\n",
        "\n",
        "        # Task A: Sentence classification head\n",
        "        self.task_a_head = nn.Sequential(\n",
        "            nn.Linear(self.embedding_dim, 128),\n",
        "            nn.ReLU(),\n",
        "            nn.Dropout(0.1),\n",
        "            nn.Linear(128, task_a_num_classes)\n",
        "        )\n",
        "\n",
        "        # Task B: Sentiment analysis head\n",
        "        self.task_b_head = nn.Sequential(\n",
        "            nn.Linear(self.embedding_dim, 128),\n",
        "            nn.ReLU(),\n",
        "            nn.Dropout(0.1),\n",
        "            nn.Linear(128, task_b_num_classes)\n",
        "        )\n",
        "\n",
        "    def forward(self, sentences, task='A'):\n",
        "        # Encode sentences to embeddings (batch-wise)\n",
        "        embeddings = self.encoder.encode(sentences, convert_to_tensor=True)\n",
        "\n",
        "        if task == 'A':\n",
        "            return self.task_a_head(embeddings)\n",
        "        elif task == 'B':\n",
        "            return self.task_b_head(embeddings)\n",
        "        else:\n",
        "            raise ValueError(\"Invalid task. Use 'A' or 'B'.\")\n",
        "\n"
      ]
    }
  ]
}